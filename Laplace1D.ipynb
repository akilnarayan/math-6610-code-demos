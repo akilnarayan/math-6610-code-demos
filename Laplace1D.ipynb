{
 "cells": [
  {
   "cell_type": "code",
   "execution_count": null,
   "metadata": {},
   "outputs": [],
   "source": [
    "# Computes an approximate solution to the one-dimensional Laplace equation\n",
    "# (ODE) on [-1,1] with periodic boundary conditions:\n",
    "#\n",
    "#    u_xx = f,    u(-1) = u(1)\n",
    "\n",
    "import numpy as np\n",
    "from numpy import sin, exp, pi, cosh\n",
    "from matplotlib import pyplot as plt\n",
    "\n",
    "from diff_utils import D2_periodic\n",
    "\n",
    "f = lambda x: sin(pi*x)\n",
    "\n",
    "N = 100\n",
    "x = np.linspace(-1, 1, N)\n",
    "h = x[2] - x[1]\n",
    "\n",
    "A = D2_periodic(N,h)"
   ]
  },
  {
   "cell_type": "code",
   "execution_count": null,
   "metadata": {},
   "outputs": [],
   "source": [
    "u = np.linalg.solve(A, f(x))"
   ]
  },
  {
   "cell_type": "code",
   "execution_count": null,
   "metadata": {},
   "outputs": [],
   "source": [
    "axf = plt.subplot(121)\n",
    "plt.plot(x, f(x), 'r')\n",
    "axf.set_xlabel('$x$')\n",
    "axf.set_ylabel('$f$')\n",
    "\n",
    "axu = plt.subplot(122)\n",
    "plt.plot(x, u, 'b')\n",
    "axu.set_xlabel('$x$')\n",
    "axu.set_ylabel('$u$')\n",
    "plt.show()"
   ]
  }
 ],
 "metadata": {
  "kernelspec": {
   "display_name": "Python 3",
   "language": "python",
   "name": "python3"
  },
  "language_info": {
   "codemirror_mode": {
    "name": "ipython",
    "version": 3
   },
   "file_extension": ".py",
   "mimetype": "text/x-python",
   "name": "python",
   "nbconvert_exporter": "python",
   "pygments_lexer": "ipython3",
   "version": "3.6.5"
  }
 },
 "nbformat": 4,
 "nbformat_minor": 2
}
