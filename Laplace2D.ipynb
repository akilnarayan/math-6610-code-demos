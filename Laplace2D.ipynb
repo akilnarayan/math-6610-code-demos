{
 "cells": [
  {
   "cell_type": "code",
   "execution_count": null,
   "metadata": {},
   "outputs": [],
   "source": [
    "# Computes an approximate solution to the two-dimensional Laplace equation\n",
    "# on [-1,1]^2 with periodic boundary conditions:\n",
    "#\n",
    "#    u_xx + u_yy = f,    u(-1,y) = u(1,y),      u(x,1) = u(x,-1)\n",
    "\n",
    "%matplotlib notebook \n",
    "\n",
    "import numpy as np\n",
    "from numpy import sin, exp, pi, cosh\n",
    "import scipy.linalg\n",
    "\n",
    "from matplotlib import pyplot as plt\n",
    "from matplotlib import cm\n",
    "from mpl_toolkits.mplot3d.axes3d import Axes3D\n",
    "\n",
    "from diff_utils import D2_periodic\n",
    "\n",
    "f = lambda x, y: sin(2*pi*x)*sin(pi*y)\n",
    "\n",
    "N = 100\n",
    "grid1d = np.linspace(-1, 1, N)\n",
    "h = grid1d[2] - grid1d[1]\n",
    "\n",
    "x, y = np.meshgrid(grid1d, grid1d)\n",
    "\n",
    "A = D2_periodic(N,h)"
   ]
  },
  {
   "cell_type": "code",
   "execution_count": null,
   "metadata": {},
   "outputs": [],
   "source": [
    "u = scipy.linalg.solve_sylvester(A, A, f(x,y))"
   ]
  },
  {
   "cell_type": "code",
   "execution_count": null,
   "metadata": {},
   "outputs": [],
   "source": [
    "plt.figure()\n",
    "axf = plt.gcf().add_subplot(1,2,1, projection='3d')\n",
    "fsurf = axf.plot_surface(x, y, f(x,y), cmap=cm.coolwarm, antialiased=False)\n",
    "axf.set_xlabel('$x$'); axf.set_ylabel('$y$'); axf.set_zlabel('$f(x,y)$')\n",
    "\n",
    "axu = plt.gcf().add_subplot(1,2,2, projection='3d')\n",
    "usurf = axu.plot_surface(x, y, u, cmap=cm.coolwarm, antialiased=False)\n",
    "axu.set_xlabel('$x$'); axu.set_ylabel('$y$'); axu.set_zlabel('$u(x,y)$')"
   ]
  }
 ],
 "metadata": {
  "kernelspec": {
   "display_name": "Python 3",
   "language": "python",
   "name": "python3"
  },
  "language_info": {
   "codemirror_mode": {
    "name": "ipython",
    "version": 3
   },
   "file_extension": ".py",
   "mimetype": "text/x-python",
   "name": "python",
   "nbconvert_exporter": "python",
   "pygments_lexer": "ipython3",
   "version": "3.6.5"
  }
 },
 "nbformat": 4,
 "nbformat_minor": 2
}
