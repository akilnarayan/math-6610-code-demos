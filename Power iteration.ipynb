{
 "cells": [
  {
   "cell_type": "code",
   "execution_count": null,
   "metadata": {},
   "outputs": [],
   "source": [
    "import numpy as np\n",
    "import matplotlib.pyplot as plt\n",
    "\n",
    "from eig_utils import rayleigh_quotient, power_iteration_cycle, hotelling_deflation, orthogonalize\n",
    "\n",
    "# Generate random symmetric matrix\n",
    "n = 10\n",
    "A = np.random.randn(n,n)\n",
    "A = 0.5 * (A + A.T)\n",
    "B = A.copy()"
   ]
  },
  {
   "cell_type": "code",
   "execution_count": null,
   "metadata": {},
   "outputs": [],
   "source": [
    "## Initialization\n",
    "\n",
    "k = 0                       # Number of eigenvalues found\n",
    "lambdas = np.zeros(n)       # Eigenvalue vector\n",
    "itercount = np.zeros(n)     # Iteration counter\n",
    "V = np.zeros((n,n))         # Eigenvector matrix\n",
    "tol = 1e-10                 # Residual termination tolerance"
   ]
  },
  {
   "cell_type": "code",
   "execution_count": null,
   "metadata": {},
   "outputs": [],
   "source": [
    "## Power iteration\n",
    "\n",
    "while k < n:\n",
    "    \n",
    "    # Random initialization of vector\n",
    "    v = np.random.randn(n)\n",
    "    v = v/np.linalg.norm(v)\n",
    "    v = orthogonalize(v, V[:,:k])\n",
    "    mu = rayleigh_quotient(A, v)\n",
    "    \n",
    "    err = 2*tol\n",
    "    \n",
    "    while err > tol:\n",
    "        v, mu, err = power_iteration_cycle(A,v)\n",
    "        itercount[k] = itercount[k] + 1\n",
    "        \n",
    "    lambdas[k] = mu\n",
    "    V[:,k] = v\n",
    "    \n",
    "    # Deflation\n",
    "    A = hotelling_deflation(A, mu, v)\n",
    "    \n",
    "    k += 1"
   ]
  },
  {
   "cell_type": "code",
   "execution_count": null,
   "metadata": {},
   "outputs": [],
   "source": [
    "## Ensure accuracy\n",
    "Lambda = np.diag(lambdas)\n",
    "\n",
    "print(\"Eigenvalue decomposition error is {0:1.5e}\".format(np.linalg.norm(B - np.dot(V, np.dot(Lambda, V.T)))))\n",
    "print(\"Condition number of eigenvector matrix: {0:1.15e}\".format(np.linalg.cond(V)))"
   ]
  },
  {
   "cell_type": "code",
   "execution_count": null,
   "metadata": {
    "scrolled": true
   },
   "outputs": [],
   "source": [
    "## Plot metrics\n",
    "\n",
    "plt.plot(np.arange(n), np.abs(lambdas))\n",
    "plt.xlabel('$k$: Power iteration algorithm index')\n",
    "plt.ylabel('$|\\lambda_k|$');\n",
    "\n",
    "plt.figure()\n",
    "plt.semilogy(np.arange(n), itercount)\n",
    "plt.xlabel('$k$: Power iteration algorithm index')\n",
    "plt.ylabel('MatVecs required for $\\lambda_k$');"
   ]
  }
 ],
 "metadata": {
  "kernelspec": {
   "display_name": "Python 3",
   "language": "python",
   "name": "python3"
  },
  "language_info": {
   "codemirror_mode": {
    "name": "ipython",
    "version": 3
   },
   "file_extension": ".py",
   "mimetype": "text/x-python",
   "name": "python",
   "nbconvert_exporter": "python",
   "pygments_lexer": "ipython3",
   "version": "3.6.5"
  }
 },
 "nbformat": 4,
 "nbformat_minor": 2
}
