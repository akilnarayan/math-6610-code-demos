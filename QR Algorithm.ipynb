{
 "cells": [
  {
   "cell_type": "code",
   "execution_count": null,
   "metadata": {},
   "outputs": [],
   "source": [
    "import numpy as np\n",
    "import matplotlib.pyplot as plt\n",
    "\n",
    "from eig_utils import rayleigh_quotient, qr_iteration_cycle\n",
    "\n",
    "# Generate random symmetric matrix\n",
    "n = 10\n",
    "A = np.random.randn(n,n) + 1j * np.random.randn(n,n)\n",
    "A = 0.5 * (A + A.T)\n",
    "B = A.copy()"
   ]
  },
  {
   "cell_type": "code",
   "execution_count": null,
   "metadata": {},
   "outputs": [],
   "source": [
    "## Initialization\n",
    "\n",
    "lambdas = np.sort(np.diag(A))       # Eigenvalue vector\n",
    "niter = 0                           # Number of iterations\n",
    "tol = 1e-10                         # Residual termination tolerance"
   ]
  },
  {
   "cell_type": "code",
   "execution_count": null,
   "metadata": {},
   "outputs": [],
   "source": [
    "## QR algorithm\n",
    "err = 2*tol\n",
    "\n",
    "while err > tol:\n",
    "    \n",
    "    Q,R = np.linalg.qr(A)\n",
    "    A = np.dot(R, Q)\n",
    "    \n",
    "    err = np.linalg.norm(A - np.triu(A), ord='fro')/n\n",
    "    \n",
    "    niter += 1"
   ]
  },
  {
   "cell_type": "code",
   "execution_count": null,
   "metadata": {},
   "outputs": [],
   "source": [
    "## Check accuracy\n",
    "lambdas = np.sort(np.diag(A))\n",
    "exact_lambdas = np.sort(np.linalg.eig(B)[0])\n",
    "\n",
    "print(\"Number of iterations is {0:d}\".format(niter))\n",
    "print(\"Eigenvalue error is {0:1.5e}\".format(np.linalg.norm(lambdas - exact_lambdas)))\n",
    "print(\"Lower triangular residual: {0:1.5e}\".format(err))"
   ]
  }
 ],
 "metadata": {
  "kernelspec": {
   "display_name": "Python 3",
   "language": "python",
   "name": "python3"
  },
  "language_info": {
   "codemirror_mode": {
    "name": "ipython",
    "version": 3
   },
   "file_extension": ".py",
   "mimetype": "text/x-python",
   "name": "python",
   "nbconvert_exporter": "python",
   "pygments_lexer": "ipython3",
   "version": "3.6.5"
  }
 },
 "nbformat": 4,
 "nbformat_minor": 2
}
