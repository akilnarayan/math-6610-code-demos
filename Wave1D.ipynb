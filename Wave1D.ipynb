{
 "cells": [
  {
   "cell_type": "code",
   "execution_count": null,
   "metadata": {},
   "outputs": [],
   "source": [
    "# Computes an approximate solution to the one-dimensional periodic wave\n",
    "# equation on [-1, 1].\n",
    "#\n",
    "#   u_t + c u_x = 0\n",
    "#\n",
    "#   u(x,0) = u_0(x)\n",
    "\n",
    "%matplotlib notebook\n",
    "\n",
    "import numpy as np\n",
    "from matplotlib import pyplot as plt\n",
    "import matplotlib.animation as animation\n",
    "from IPython.display import HTML\n",
    "\n",
    "animate = True\n",
    "\n",
    "# Set up PDE\n",
    "c = 1\n",
    "u0 = lambda x: np.exp(np.sin(np.pi*x))\n",
    "\n",
    "# Spatial discretization parameters\n",
    "N = 200\n",
    "x = np.linspace(-1, 1, N)\n",
    "h = x[2]-x[1]\n",
    "\n",
    "# Temporal discretization parameters\n",
    "T = 5\n",
    "Nk = 500\n",
    "k = T/Nk\n",
    "t = 0.\n",
    "\n",
    "u = np.zeros([N, Nk+1])\n",
    "\n",
    "u[:,0] = u0(x)\n",
    "ind = 0"
   ]
  },
  {
   "cell_type": "code",
   "execution_count": null,
   "metadata": {},
   "outputs": [],
   "source": [
    "for ind in range(Nk):\n",
    "    \n",
    "    # First-order spatial derivative\n",
    "    ux = 1/h * ( u[:,ind] - np.concatenate((u[-1:,ind], u[:-1,ind])) )\n",
    "    \n",
    "    # Second-order central derivative\n",
    "    #ux = 1/(2*h) * ( np.concatenate((u[1:,ind], u[:1,ind])) - np.concatenate((u[-1:,ind], u[:-1,ind])) )\n",
    "    \n",
    "    # Forward Euler\n",
    "    rhs = -c*ux\n",
    "    u[:,ind+1] = u[:,ind] + k*rhs\n",
    "    \n",
    "    # Leapfrog\n",
    "    #rhs = -c*ux\n",
    "    #if ind > 0:\n",
    "    #    u[:,ind+1] = u[:,ind-1] + 2*k*rhs\n",
    "    #else:\n",
    "    #    u[:,ind+1] = u[:,0] + k*rhs\n",
    "    \n",
    "    t += k "
   ]
  },
  {
   "cell_type": "code",
   "execution_count": null,
   "metadata": {
    "scrolled": false
   },
   "outputs": [],
   "source": [
    "fig = plt.figure()\n",
    "eline = plt.plot(x, u0(x - c*0), 'b')[0]\n",
    "uline = plt.plot(x, u[:,0], 'r')[0]\n",
    "\n",
    "plt.legend(('Exact solution', 'Numerical solution'), loc='upper right')\n",
    "\n",
    "time_template = 'time = %.3fs'\n",
    "time_text = plt.gca().text(0.05, 0.90, '', transform=plt.gca().transAxes)\n",
    "\n",
    "def animation_init():\n",
    "    time_text.set_text('')\n",
    "    return uline, eline#, time_text\n",
    "\n",
    "time_template = 'time = %.3fs'\n",
    "def animation_update(i):\n",
    "    uline.set_data(x, u[:,i])\n",
    "    eline.set_data(x, u0(x - c*i*k))\n",
    "    time_text.set_text(time_template % (i*k))\n",
    "\n",
    "ani = animation.FuncAnimation(fig, animation_update, np.arange(0, Nk, 1), \\\n",
    "                              interval=5, blit=True, init_func=animation_init, repeat_delay=1000)"
   ]
  }
 ],
 "metadata": {
  "kernelspec": {
   "display_name": "Python 3",
   "language": "python",
   "name": "python3"
  },
  "language_info": {
   "codemirror_mode": {
    "name": "ipython",
    "version": 3
   },
   "file_extension": ".py",
   "mimetype": "text/x-python",
   "name": "python",
   "nbconvert_exporter": "python",
   "pygments_lexer": "ipython3",
   "version": "3.6.5"
  }
 },
 "nbformat": 4,
 "nbformat_minor": 2
}
