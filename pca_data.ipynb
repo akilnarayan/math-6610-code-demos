{
 "cells": [
  {
   "cell_type": "code",
   "execution_count": null,
   "metadata": {},
   "outputs": [],
   "source": [
    "# Demonstrates principal component analysis on a simple data set.\n",
    "# See\n",
    "# https://www.statsmodels.org/devel/datasets/generated/statecrime.html\n",
    "# for more information on the data set.\n",
    "\n",
    "import numpy as np\n",
    "from matplotlib import pyplot as plt\n",
    "\n",
    "import statsmodels.api as sm\n",
    "\n",
    "data = sm.datasets.statecrime.load_pandas().data"
   ]
  },
  {
   "cell_type": "code",
   "execution_count": null,
   "metadata": {},
   "outputs": [],
   "source": [
    "## Description of data\n",
    "\n",
    "# Each column corresponds to states\n",
    "# Row 0: violent crime rate per 100k\n",
    "# Row 1: murder rate per 100k\n",
    "# Row 2: percentage with high school education\n",
    "# Row 3: percentage below poverty line\n",
    "# Row 4: percentage that are single-race caucasian\n",
    "# Row 5: single households ratio:\n",
    "#        (# Lone male head of households + # Lone female head of\n",
    "#        households) / (# family households)\n",
    "# Row 6: percentage of population in urban areas\n",
    "X = np.array(data).T\n",
    "\n",
    "rows = ['violent', 'murder', 'hs_educ', 'poverty', 'caucasian', 'single', 'urban']\n",
    "states = list(data.index)"
   ]
  },
  {
   "cell_type": "code",
   "execution_count": null,
   "metadata": {},
   "outputs": [],
   "source": [
    "## Preprocessing of data\n",
    "\n",
    "# Centralize data\n",
    "Xc = X - np.tile(np.reshape(np.mean(X,axis=1), [X.shape[0], 1]), [1, X.shape[1]])\n",
    "\n",
    "# Relative weight fluctuations for data\n",
    "weights = np.array([1/100., 1., 1., 1., 1., 1., 1/10.])\n",
    "\n",
    "# Variables to use\n",
    "variables = [0, 1, 2, 3, 4, 6]\n",
    "\n",
    "# Compute svd of scaled data\n",
    "Xs = np.dot(np.diag(weights[variables]), Xc[variables,:])\n"
   ]
  },
  {
   "cell_type": "code",
   "execution_count": null,
   "metadata": {},
   "outputs": [],
   "source": [
    "## PCA\n",
    "\n",
    "U, s, V = np.linalg.svd(Xs)\n",
    "# Above same as ss, UU = np.linalg.eigh(np.dot(Xs, Xs.T))"
   ]
  },
  {
   "cell_type": "code",
   "execution_count": null,
   "metadata": {},
   "outputs": [],
   "source": [
    "## Visualization\n",
    "\n",
    "# Columns of U indicate transformations of variables\n",
    "plt.subplot(121)\n",
    "Y = np.dot(U[:,:2].T, Xs)\n",
    "plt.plot(Y[0,:], Y[1,:], 'b.')\n",
    "plt.xlabel('$u_1$')\n",
    "plt.ylabel('$u_2$')\n",
    "plt.title('Data projected onto first two PC directions')\n",
    "\n",
    "ax = plt.gca()\n",
    "for ind, state in enumerate(states):\n",
    "    ax.annotate(state, (Y[0,ind], Y[1,ind]))\n",
    "\n",
    "plt.subplot(122)\n",
    "width = 0.35\n",
    "x = np.arange(Xs.shape[0])\n",
    "plt.bar(x-width/2, U[:,0], width=width, label='$u_1$')\n",
    "plt.bar(x+width/2, U[:,1], width=width, label='$u_2$')\n",
    "plt.xticks(x, [rows[i] for i in variables])\n",
    "plt.legend()\n",
    "plt.title('Components of first two PC directions')\n",
    "\n",
    "plt.gcf().set_size_inches(40, 12)"
   ]
  },
  {
   "cell_type": "code",
   "execution_count": null,
   "metadata": {},
   "outputs": [],
   "source": []
  }
 ],
 "metadata": {
  "anaconda-cloud": {},
  "kernelspec": {
   "display_name": "Python 3",
   "language": "python",
   "name": "python3"
  },
  "language_info": {
   "codemirror_mode": {
    "name": "ipython",
    "version": 3
   },
   "file_extension": ".py",
   "mimetype": "text/x-python",
   "name": "python",
   "nbconvert_exporter": "python",
   "pygments_lexer": "ipython3",
   "version": "3.6.5"
  }
 },
 "nbformat": 4,
 "nbformat_minor": 1
}
