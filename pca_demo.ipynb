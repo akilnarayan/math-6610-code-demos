{
 "cells": [
  {
   "cell_type": "code",
   "execution_count": null,
   "metadata": {},
   "outputs": [],
   "source": [
    "# Visually demonstrates principal component analysis.\n",
    "\n",
    "import numpy as np\n",
    "from matplotlib import pyplot as plt\n",
    "from mpl_toolkits.mplot3d import Axes3D\n",
    "\n",
    "## Generate data\n",
    "M = 1000\n",
    "U,_ = np.linalg.qr(np.random.normal(size=[3,3]))\n",
    "C = np.tril(np.random.normal(size=[3,3]))\n",
    "for j in range(3): C[j,j] = 1.\n",
    "\n",
    "C = np.dot(C, np.diag([2, 0.5, 0.1]))\n",
    "X = np.dot(C, np.random.normal(size=[3, M]))"
   ]
  },
  {
   "cell_type": "code",
   "execution_count": null,
   "metadata": {},
   "outputs": [],
   "source": [
    "## Compute SVD for PCA\n",
    "U, s, V = np.linalg.svd(X)\n",
    "\n",
    "print(\"Singular values: \", s)"
   ]
  },
  {
   "cell_type": "code",
   "execution_count": null,
   "metadata": {},
   "outputs": [],
   "source": [
    "## First figure: just data\n",
    "%matplotlib notebook\n",
    "\n",
    "fig = plt.figure()\n",
    "ax = fig.add_subplot(111, projection='3d')\n",
    "\n",
    "ax.scatter(X[0,:], X[1,:], X[2,:], s=0.5)\n",
    "ax.set_xlabel('x')\n",
    "ax.set_ylabel('y')\n",
    "ax.set_zlabel('z')\n",
    "ax.set_title('Data')\n",
    "\n",
    "mn = np.min(np.min(X))\n",
    "mx = np.max(np.max(X))\n",
    "ax.set_xlim(mn, mx)\n",
    "ax.set_ylim(mn, mx)\n",
    "ax.set_zlim(mn, mx)"
   ]
  },
  {
   "cell_type": "code",
   "execution_count": null,
   "metadata": {},
   "outputs": [],
   "source": [
    "## Second figure: data + svd directions\n",
    "fig = plt.figure()\n",
    "ax = fig.add_subplot(111, projection='3d')\n",
    "\n",
    "ax.scatter(X[0,:], X[1,:], X[2,:], s=0.5)\n",
    "ax.set_xlabel('x')\n",
    "ax.set_ylabel('y')\n",
    "ax.set_zlabel('z')\n",
    "ax.set_title('Data with principal directions')\n",
    "\n",
    "mn = np.min(np.min(X))\n",
    "mx = np.max(np.max(X))\n",
    "ax.set_xlim(mn, mx)\n",
    "ax.set_ylim(mn, mx)\n",
    "ax.set_zlim(mn, mx)\n",
    "\n",
    "# arrow length\n",
    "al = np.sqrt(s)\n",
    "ax.quiver(0, 0, 0, U[0,:]*al, U[1,:]*al, U[2,:]*al, color=['r', 'r', 'r'])"
   ]
  },
  {
   "cell_type": "code",
   "execution_count": null,
   "metadata": {},
   "outputs": [],
   "source": [
    "## Third figure: 2-D projected data\n",
    "Y = np.dot(U.T, X)\n",
    "\n",
    "fig = plt.figure()\n",
    "ax = fig.add_subplot(111)\n",
    "\n",
    "ax.plot(Y[0,:], Y[1,:], 'b.')\n",
    "ax.set_xlabel('$u_1$')\n",
    "ax.set_ylabel('$u_2$')\n",
    "ax.set_title('Projection onto first two principal directions')"
   ]
  },
  {
   "cell_type": "code",
   "execution_count": null,
   "metadata": {},
   "outputs": [],
   "source": []
  }
 ],
 "metadata": {
  "anaconda-cloud": {},
  "kernelspec": {
   "display_name": "Python 3",
   "language": "python",
   "name": "python3"
  },
  "language_info": {
   "codemirror_mode": {
    "name": "ipython",
    "version": 3
   },
   "file_extension": ".py",
   "mimetype": "text/x-python",
   "name": "python",
   "nbconvert_exporter": "python",
   "pygments_lexer": "ipython3",
   "version": "3.6.5"
  }
 },
 "nbformat": 4,
 "nbformat_minor": 1
}
